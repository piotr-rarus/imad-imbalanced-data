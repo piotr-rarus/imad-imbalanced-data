{
 "cells": [
  {
   "cell_type": "markdown",
   "metadata": {},
   "source": [
    "# Resampling"
   ],
   "execution_count": null,
   "outputs": []
  },
  {
   "cell_type": "code",
   "execution_count": null,
   "metadata": {},
   "outputs": [],
   "source": [
    "import ipywidgets as widgets\n",
    "from imblearn import combine, over_sampling, under_sampling\n",
    "from IPython.display import display\n",
    "from sklearn.datasets import make_classification\n",
    "from sklearn.metrics import f1_score, make_scorer\n",
    "from sklearn.model_selection import train_test_split\n",
    "from sklearn.svm import SVC\n",
    "\n",
    "from imbalanced.util.plot import Plot\n",
    "\n",
    "__RANDOM_STATE = 325235\n",
    "\n",
    "plot = Plot()"
   ]
  },
  {
   "cell_type": "markdown",
   "metadata": {},
   "source": [
    "## Data set"
   ],
   "execution_count": null,
   "outputs": []
  },
  {
   "cell_type": "code",
   "execution_count": null,
   "metadata": {},
   "outputs": [],
   "source": [
    "data_random_state = widgets.IntSlider()\n",
    "data_random_state.min = 1\n",
    "data_random_state.max = 1000\n",
    "data_random_state.value = 530\n",
    "display(data_random_state)"
   ]
  },
  {
   "cell_type": "code",
   "execution_count": null,
   "metadata": {},
   "outputs": [],
   "source": [
    "x, y = make_classification(\n",
    "    n_samples=300,\n",
    "    n_features=2,\n",
    "    n_informative=2,\n",
    "    n_redundant=0,\n",
    "    n_clusters_per_class=2,\n",
    "    class_sep=0.8,\n",
    "    weights=[0.9],\n",
    "    flip_y=0,\n",
    "    random_state=data_random_state.value,\n",
    ")\n",
    "\n",
    "plot.features_distribution(x, y)"
   ]
  },
  {
   "cell_type": "markdown",
   "metadata": {},
   "source": [
    "## Evaluation"
   ]
  },
  {
   "cell_type": "code",
   "execution_count": null,
   "metadata": {},
   "outputs": [],
   "source": [
    "x_train, x_test, y_train, y_test = train_test_split(\n",
    "    x,\n",
    "    y,\n",
    "    test_size=0.2,\n",
    "    random_state=__RANDOM_STATE\n",
    ")\n",
    "\n",
    "svc = SVC(C=1.0, random_state=__RANDOM_STATE)\n",
    "f1_scorer = make_scorer(f1_score, average='macro')"
   ]
  },
  {
   "cell_type": "markdown",
   "metadata": {},
   "source": [
    "## Imblanaced"
   ],
   "execution_count": null,
   "outputs": []
  },
  {
   "cell_type": "code",
   "execution_count": null,
   "metadata": {},
   "outputs": [],
   "source": [
    "svc.fit(x_train, y_train)\n",
    "plot.decision_boundary(x, y, svc)\n",
    "\n",
    "f1_imbalanced = f1_scorer(svc, x_test, y_test)\n",
    "print(f'F1 score: {f1_imbalanced}')"
   ]
  },
  {
   "cell_type": "markdown",
   "metadata": {},
   "source": [
    "## Random Over-Sampling"
   ],
   "execution_count": null,
   "outputs": []
  },
  {
   "cell_type": "code",
   "execution_count": null,
   "metadata": {},
   "outputs": [],
   "source": [
    "resampler = over_sampling.RandomOverSampler(random_state=__RANDOM_STATE)\n",
    "x_resampled, y_resampled = resampler.fit_resample(x_train, y_train)\n",
    "\n",
    "svc.fit(x_resampled, y_resampled)\n",
    "plot.decision_boundary(x, y, svc)\n",
    "\n",
    "f1_imbalanced = f1_scorer(svc, x_test, y_test)\n",
    "print(f'F1 score: {f1_imbalanced}')"
   ]
  },
  {
   "cell_type": "markdown",
   "metadata": {},
   "source": [
    "## Smote\n",
    "[docs](https://imbalanced-learn.readthedocs.io/en/stable/generated/imblearn.over_sampling.SMOTE.html)"
   ],
   "execution_count": null,
   "outputs": []
  },
  {
   "cell_type": "code",
   "execution_count": null,
   "metadata": {},
   "outputs": [],
   "source": [
    "smote = over_sampling.SMOTE(random_state=__RANDOM_STATE)\n",
    "x_resampled, y_resampled = smote.fit_resample(x_train, y_train)\n",
    "\n",
    "svc.fit(x_resampled, y_resampled)\n",
    "plot.decision_boundary(x, y, svc)\n",
    "\n",
    "f1_imbalanced = f1_scorer(svc, x_test, y_test)\n",
    "print(f'F1 score: {f1_imbalanced}')"
   ]
  },
  {
   "cell_type": "markdown",
   "metadata": {},
   "source": [
    "## Tomek-Links\n",
    "[docs](https://imbalanced-learn.readthedocs.io/en/stable/generated/imblearn.under_sampling.TomekLinks.html)"
   ],
   "execution_count": null,
   "outputs": []
  },
  {
   "cell_type": "code",
   "execution_count": null,
   "metadata": {},
   "outputs": [],
   "source": [
    "tlinks = under_sampling.TomekLinks()\n",
    "x_resampled, y_resampled = tlinks.fit_resample(x_resampled, y_resampled)\n",
    "\n",
    "svc.fit(x_resampled, y_resampled)\n",
    "plot.decision_boundary(x, y, svc)\n",
    "\n",
    "f1_imbalanced = f1_scorer(svc, x_test, y_test)\n",
    "print(f'F1 score: {f1_imbalanced}')"
   ]
  },
  {
   "cell_type": "markdown",
   "metadata": {},
   "source": [
    "## Pipeline\n",
    "\n",
    "[docs](https://imbalanced-learn.readthedocs.io/en/stable/generated/imblearn.pipeline.Pipeline.html)"
   ],
   "execution_count": null,
   "outputs": []
  },
  {
   "cell_type": "code",
   "execution_count": null,
   "metadata": {},
   "outputs": [],
   "source": [
    "from imblearn.pipeline import Pipeline\n",
    "\n",
    "\n",
    "pipeline = Pipeline(\n",
    "    steps=[\n",
    "        ('smote', over_sampling.SMOTE(random_state=__RANDOM_STATE)),\n",
    "        ('tlinks', under_sampling.TomekLinks()),\n",
    "        ('svc', SVC(C=1.0, random_state=__RANDOM_STATE))\n",
    "    ]\n",
    ")\n",
    "\n",
    "pipeline.fit(x_train, y_train)\n",
    "plot.decision_boundary(x, y, pipeline)\n",
    "\n",
    "f1_pipeline = f1_scorer(pipeline, x_test, y_test)\n",
    "print(f'F1 score: {f1_pipeline}')"
   ]
  }
 ],
 "metadata": {
  "file_extension": ".py",
  "kernelspec": {
   "display_name": "Python 3",
   "language": "python",
   "name": "python3"
  },
  "language_info": {
   "codemirror_mode": {
    "name": "ipython",
    "version": 3
   },
   "file_extension": ".py",
   "mimetype": "text/x-python",
   "name": "python",
   "nbconvert_exporter": "python",
   "pygments_lexer": "ipython3",
   "version": "3.7.5"
  },
  "mimetype": "text/x-python",
  "name": "python",
  "npconvert_exporter": "python",
  "pygments_lexer": "ipython3",
  "version": 3
 },
 "nbformat": 4,
 "nbformat_minor": 2
}